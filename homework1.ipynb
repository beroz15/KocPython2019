{
 "cells": [
  {
   "cell_type": "code",
   "execution_count": 1,
   "metadata": {},
   "outputs": [],
   "source": [
    "import random"
   ]
  },
  {
   "cell_type": "code",
   "execution_count": 2,
   "metadata": {},
   "outputs": [],
   "source": [
    "import datetime"
   ]
  },
  {
   "cell_type": "code",
   "execution_count": 7,
   "metadata": {},
   "outputs": [],
   "source": [
    "class Transaction():\n",
    "    def __init(self, kind, amount, price, trade, name, datetime):\n",
    "        self.kind = kind\n",
    "        self.amount = amount\n",
    "        self.price = price\n",
    "        self.trade = trade\n",
    "        self.name = name\n",
    "        self.datetime = datetime"
   ]
  },
  {
   "cell_type": "code",
   "execution_count": 5,
   "metadata": {},
   "outputs": [],
   "source": [
    "class MutualFund():\n",
    "    def __init__(self, price, name):\n",
    "        self.price = 1\n",
    "        self.name = name"
   ]
  },
  {
   "cell_type": "code",
   "execution_count": 3,
   "metadata": {},
   "outputs": [],
   "source": [
    "class Stock():\n",
    "    def __init__(self, price, name):\n",
    "        self.price = price\n",
    "        self.name = name\n",
    "        stockMarket[name] = price"
   ]
  },
  {
   "cell_type": "code",
   "execution_count": 10,
   "metadata": {},
   "outputs": [],
   "source": [
    "class Portfolio(object):\n",
    "    cash = 0\n",
    "    transactions = []\n",
    "    stocks = {}\n",
    "    mutualfunds = {}\n",
    "    \n",
    "    def addCash(self, cash):\n",
    "        self.cash = self.cash + cash\n",
    "        \n",
    "        transaction = Transaction(\"cash\", \"add\", cash)\n",
    "        \n",
    "    def withdrawCash(self, cash):\n",
    "        self.cash = self.cash -cash\n",
    "        \n",
    "        transaction = Transaction (\"cash\", \"withdraw\", cash)\n",
    "        \n",
    "    def buyStock(self, amount, stock):\n",
    "        name = stock.name\n",
    "        price = stock.price\n",
    "        self.stocks[name] = amount\n",
    "        self.cash = self.cash - amount * price\n",
    "        transaction = Transaction(\"Stock\", \"Buy\", amount, name, price)\n",
    "        \n",
    "    def sellStock(self, name, amount):\n",
    "        price = stockMarket[name]\n",
    "        if name in self.stock():\n",
    "            if amount < self.stock[name]:\n",
    "                self.stock[name] = self.stock[name] - amount\n",
    "                \n",
    "                salesPrice = uniform(stockMarket[name] * 0.5, stockMarket[name] * 1.5)\n",
    "                self.cash = self.cash + amount * salesPrice\n",
    "                \n",
    "                transaction = Transaction(\"Stock\", \"Sell\", amount, name, salesPrice)\n",
    "                \n",
    "            else:\n",
    "                print (\"There is no enough stocks called '\" + name + \"'\")\n",
    "        \n",
    "        else:\n",
    "            print (\"There is no such stocks called '\" + name + \"'\")\n",
    "        \n",
    "    def buyMutualFund(self, amount, mutualfund):\n",
    "        name = mutualfund.name\n",
    "        price = mutualfund.price\n",
    "        self.mutualfund[name] = amount\n",
    "        self.cash = self.cash - amount * price\n",
    "        \n",
    "        transaction = Transaction(\"Mutual Fund\", \"Buy\", amount, name, price)\n",
    "    \n",
    "    def sellMutualFund(self, name, amount):\n",
    "        if name in self.muutalfund():\n",
    "            if amount < self.mutualfund[name]:\n",
    "                self.mutualfund[name] = self.mutualfund[name] - amount\n",
    "                \n",
    "                salesPrice = uniform(0.9 , 1.2)\n",
    "                self.cash = self.cash + amount * salesPrice\n",
    "                \n",
    "                transaction = Transaction(\"Mutual Fund\", \"Sell\", amount, name, salesPrice)\n",
    "            \n",
    "            else:\n",
    "                print(\"There is no enough mutual fund shares called '\" + name + \"'\")\n",
    "        else:\n",
    "            print (\" There is no such mutual fund shares called '\" + name + \"'\")\n",
    "            \n",
    "            \n",
    "    def history (self):\n",
    "        show = [\"- Kind - Amount  - Price - Trade - Name - Date -\"]\n",
    "        for transaction in self.transaction:\n",
    "            kind = transaction.kind\n",
    "            amount = transaction.amount\n",
    "            price = transaction.price\n",
    "            trade = transacation.trade\n",
    "            name = transaction.name\n",
    "            date = transaction.date\n",
    "        result = \"\\n\".join(show)\n",
    "        print(result)"
   ]
  },
  {
   "cell_type": "code",
   "execution_count": 11,
   "metadata": {},
   "outputs": [
    {
     "ename": "TypeError",
     "evalue": "Transaction() takes no arguments",
     "output_type": "error",
     "traceback": [
      "\u001b[0;31m---------------------------------------------------------------------------\u001b[0m",
      "\u001b[0;31mTypeError\u001b[0m                                 Traceback (most recent call last)",
      "\u001b[0;32m<ipython-input-11-f1424f9baafc>\u001b[0m in \u001b[0;36m<module>\u001b[0;34m\u001b[0m\n\u001b[0;32m----> 1\u001b[0;31m \u001b[0mportfolio\u001b[0m\u001b[0;34m.\u001b[0m\u001b[0maddCash\u001b[0m\u001b[0;34m(\u001b[0m\u001b[0;36m300.50\u001b[0m\u001b[0;34m)\u001b[0m\u001b[0;34m\u001b[0m\u001b[0;34m\u001b[0m\u001b[0m\n\u001b[0m",
      "\u001b[0;32m<ipython-input-8-d5df9b502cb8>\u001b[0m in \u001b[0;36maddCash\u001b[0;34m(self, cash)\u001b[0m\n\u001b[1;32m      8\u001b[0m         \u001b[0mself\u001b[0m\u001b[0;34m.\u001b[0m\u001b[0mcash\u001b[0m \u001b[0;34m=\u001b[0m \u001b[0mself\u001b[0m\u001b[0;34m.\u001b[0m\u001b[0mcash\u001b[0m \u001b[0;34m+\u001b[0m \u001b[0mcash\u001b[0m\u001b[0;34m\u001b[0m\u001b[0;34m\u001b[0m\u001b[0m\n\u001b[1;32m      9\u001b[0m \u001b[0;34m\u001b[0m\u001b[0m\n\u001b[0;32m---> 10\u001b[0;31m         \u001b[0mtransaction\u001b[0m \u001b[0;34m=\u001b[0m \u001b[0mTransaction\u001b[0m\u001b[0;34m(\u001b[0m\u001b[0;34m\"cash\"\u001b[0m\u001b[0;34m,\u001b[0m \u001b[0;34m\"add\"\u001b[0m\u001b[0;34m,\u001b[0m \u001b[0mcash\u001b[0m\u001b[0;34m)\u001b[0m\u001b[0;34m\u001b[0m\u001b[0;34m\u001b[0m\u001b[0m\n\u001b[0m\u001b[1;32m     11\u001b[0m \u001b[0;34m\u001b[0m\u001b[0m\n\u001b[1;32m     12\u001b[0m     \u001b[0;32mdef\u001b[0m \u001b[0mwithdrawCash\u001b[0m\u001b[0;34m(\u001b[0m\u001b[0mself\u001b[0m\u001b[0;34m,\u001b[0m \u001b[0mcash\u001b[0m\u001b[0;34m)\u001b[0m\u001b[0;34m:\u001b[0m\u001b[0;34m\u001b[0m\u001b[0;34m\u001b[0m\u001b[0m\n",
      "\u001b[0;31mTypeError\u001b[0m: Transaction() takes no arguments"
     ]
    }
   ],
   "source": [
    "portfolio.addCash(300.50)"
   ]
  },
  {
   "cell_type": "code",
   "execution_count": 12,
   "metadata": {},
   "outputs": [],
   "source": [
    "portfolio = Portfolio()"
   ]
  },
  {
   "cell_type": "code",
   "execution_count": 13,
   "metadata": {},
   "outputs": [
    {
     "ename": "TypeError",
     "evalue": "Transaction() takes no arguments",
     "output_type": "error",
     "traceback": [
      "\u001b[0;31m---------------------------------------------------------------------------\u001b[0m",
      "\u001b[0;31mTypeError\u001b[0m                                 Traceback (most recent call last)",
      "\u001b[0;32m<ipython-input-13-f1424f9baafc>\u001b[0m in \u001b[0;36m<module>\u001b[0;34m\u001b[0m\n\u001b[0;32m----> 1\u001b[0;31m \u001b[0mportfolio\u001b[0m\u001b[0;34m.\u001b[0m\u001b[0maddCash\u001b[0m\u001b[0;34m(\u001b[0m\u001b[0;36m300.50\u001b[0m\u001b[0;34m)\u001b[0m\u001b[0;34m\u001b[0m\u001b[0;34m\u001b[0m\u001b[0m\n\u001b[0m",
      "\u001b[0;32m<ipython-input-10-0a7f4923292d>\u001b[0m in \u001b[0;36maddCash\u001b[0;34m(self, cash)\u001b[0m\n\u001b[1;32m      8\u001b[0m         \u001b[0mself\u001b[0m\u001b[0;34m.\u001b[0m\u001b[0mcash\u001b[0m \u001b[0;34m=\u001b[0m \u001b[0mself\u001b[0m\u001b[0;34m.\u001b[0m\u001b[0mcash\u001b[0m \u001b[0;34m+\u001b[0m \u001b[0mcash\u001b[0m\u001b[0;34m\u001b[0m\u001b[0;34m\u001b[0m\u001b[0m\n\u001b[1;32m      9\u001b[0m \u001b[0;34m\u001b[0m\u001b[0m\n\u001b[0;32m---> 10\u001b[0;31m         \u001b[0mtransaction\u001b[0m \u001b[0;34m=\u001b[0m \u001b[0mTransaction\u001b[0m\u001b[0;34m(\u001b[0m\u001b[0;34m\"cash\"\u001b[0m\u001b[0;34m,\u001b[0m \u001b[0;34m\"add\"\u001b[0m\u001b[0;34m,\u001b[0m \u001b[0mcash\u001b[0m\u001b[0;34m)\u001b[0m\u001b[0;34m\u001b[0m\u001b[0;34m\u001b[0m\u001b[0m\n\u001b[0m\u001b[1;32m     11\u001b[0m \u001b[0;34m\u001b[0m\u001b[0m\n\u001b[1;32m     12\u001b[0m     \u001b[0;32mdef\u001b[0m \u001b[0mwithdrawCash\u001b[0m\u001b[0;34m(\u001b[0m\u001b[0mself\u001b[0m\u001b[0;34m,\u001b[0m \u001b[0mcash\u001b[0m\u001b[0;34m)\u001b[0m\u001b[0;34m:\u001b[0m\u001b[0;34m\u001b[0m\u001b[0;34m\u001b[0m\u001b[0m\n",
      "\u001b[0;31mTypeError\u001b[0m: Transaction() takes no arguments"
     ]
    }
   ],
   "source": [
    "portfolio.addCash(300.50)"
   ]
  },
  {
   "cell_type": "code",
   "execution_count": null,
   "metadata": {},
   "outputs": [],
   "source": []
  }
 ],
 "metadata": {
  "kernelspec": {
   "display_name": "Python 3",
   "language": "python",
   "name": "python3"
  },
  "language_info": {
   "codemirror_mode": {
    "name": "ipython",
    "version": 3
   },
   "file_extension": ".py",
   "mimetype": "text/x-python",
   "name": "python",
   "nbconvert_exporter": "python",
   "pygments_lexer": "ipython3",
   "version": "3.7.1"
  }
 },
 "nbformat": 4,
 "nbformat_minor": 2
}
