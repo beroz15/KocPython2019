{
 "cells": [
  {
   "cell_type": "code",
   "execution_count": 58,
   "metadata": {},
   "outputs": [],
   "source": [
    "import numpy as np"
   ]
  },
  {
   "cell_type": "code",
   "execution_count": 62,
   "metadata": {},
   "outputs": [],
   "source": [
    "def linear_regression(covariates, targets):\n",
    "    covariates = np.array(covariates)\n",
    "    targets = np.array(targets).reshape(-1,1)\n",
    "    combination = np.hstack([covariates, targets])\n",
    "    covariates = covariates[~np.isnan(combination).any(axis=1)]\n",
    "    targets = targets[~np.isnan(combination).any(axis=1)]\n",
    "    beta = np.matmul(np.matmul(np.linalg.inv(np.matmul(np.transpose(covariates), covariates)), np.transpose(covariates)), targets)\n",
    "    y_hat = np.matmul(covariates, beta)\n",
    "    errors = targets - y_hat\n",
    "    for index, coeff in enumerate(beta.tolist()):\n",
    "        mean = float(covariates[:, index].mean())\n",
    "        summation = 0\n",
    "        for point in covariates[:, index].tolist():\n",
    "            summation += pow(float(point) - mean, 2)\n",
    "        variance_beta.append(variance/summation)\n",
    "    variance_beta = np.array(variance_beta).reshape(-1,1)\n",
    "    se_beta = np.sqrt(variance_beta)\n",
    "    lower_bounds = beta - (2 * se_beta)\n",
    "    upper_bounds = beta + (2 * se_beta)\n",
    "    return beta[:,0], se_beta[:,0], lower_bounds[:,0], upper_bounds[:,0]"
   ]
  }
 ],
 "metadata": {
  "kernelspec": {
   "display_name": "Python 3",
   "language": "python",
   "name": "python3"
  },
  "language_info": {
   "codemirror_mode": {
    "name": "ipython",
    "version": 3
   },
   "file_extension": ".py",
   "mimetype": "text/x-python",
   "name": "python",
   "nbconvert_exporter": "python",
   "pygments_lexer": "ipython3",
   "version": "3.7.1"
  }
 },
 "nbformat": 4,
 "nbformat_minor": 2
}
